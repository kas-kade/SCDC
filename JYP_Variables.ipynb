{
 "cells": [
  {
   "cell_type": "markdown",
   "id": "500aa6d4",
   "metadata": {},
   "source": [
    "# How to Print Something out"
   ]
  },
  {
   "cell_type": "code",
   "execution_count": 1,
   "id": "3cd95a04",
   "metadata": {},
   "outputs": [
    {
     "name": "stdout",
     "output_type": "stream",
     "text": [
      "This line will be printed.\n"
     ]
    }
   ],
   "source": [
    "print(\"This line will be printed.\")"
   ]
  },
  {
   "cell_type": "markdown",
   "id": "9cf2d344",
   "metadata": {},
   "source": [
    "# "
   ]
  },
  {
   "cell_type": "markdown",
   "id": "d8a8dfd2",
   "metadata": {},
   "source": [
    "# Numbers\n",
    "## Interger -> Whole Number"
   ]
  },
  {
   "cell_type": "code",
   "execution_count": 2,
   "id": "fc2bd084",
   "metadata": {},
   "outputs": [
    {
     "name": "stdout",
     "output_type": "stream",
     "text": [
      "4\n"
     ]
    }
   ],
   "source": [
    "myInt = 4\n",
    "print(myInt)"
   ]
  },
  {
   "cell_type": "markdown",
   "id": "bf539746",
   "metadata": {},
   "source": [
    "## Floating Point -> Decimal"
   ]
  },
  {
   "cell_type": "code",
   "execution_count": 3,
   "id": "e5518786",
   "metadata": {},
   "outputs": [
    {
     "name": "stdout",
     "output_type": "stream",
     "text": [
      "4.75\n"
     ]
    }
   ],
   "source": [
    "myFloat = 4.75\n",
    "print(myFloat)"
   ]
  },
  {
   "cell_type": "markdown",
   "id": "ce990516",
   "metadata": {},
   "source": [
    "## You can also change integers into floats"
   ]
  },
  {
   "cell_type": "code",
   "execution_count": 4,
   "id": "fea3d22b",
   "metadata": {},
   "outputs": [
    {
     "name": "stdout",
     "output_type": "stream",
     "text": [
      "4.0\n"
     ]
    }
   ],
   "source": [
    "convertInt = float(4)\n",
    "print(convertInt)"
   ]
  },
  {
   "cell_type": "markdown",
   "id": "b993659a",
   "metadata": {},
   "source": [
    "# "
   ]
  },
  {
   "cell_type": "markdown",
   "id": "a3a7a780",
   "metadata": {},
   "source": [
    "# Strings\n",
    "## Strings can be defined with either a single or double quotations — strings refer to whole letters, words, or sentences "
   ]
  },
  {
   "cell_type": "code",
   "execution_count": 5,
   "id": "74f52f7f",
   "metadata": {},
   "outputs": [
    {
     "name": "stdout",
     "output_type": "stream",
     "text": [
      "hello world\n"
     ]
    }
   ],
   "source": [
    "quote1 = 'hello world'\n",
    "print(quote1)"
   ]
  },
  {
   "cell_type": "code",
   "execution_count": 6,
   "id": "ddcf0808",
   "metadata": {},
   "outputs": [
    {
     "name": "stdout",
     "output_type": "stream",
     "text": [
      "hello world\n"
     ]
    }
   ],
   "source": [
    "quote2 = \"hello world\"\n",
    "print(quote2)"
   ]
  },
  {
   "cell_type": "markdown",
   "id": "45d90b41",
   "metadata": {},
   "source": [
    "## If you want to change a string to all lowercase, use .lower()"
   ]
  },
  {
   "cell_type": "code",
   "execution_count": 7,
   "id": "6db7691d",
   "metadata": {},
   "outputs": [
    {
     "name": "stdout",
     "output_type": "stream",
     "text": [
      "banana\n"
     ]
    }
   ],
   "source": [
    "quote3 = \"BaNaNa\"\n",
    "\n",
    "lower_quote3 = quote3.lower()\n",
    "\n",
    "print(lower_quote3)"
   ]
  },
  {
   "cell_type": "markdown",
   "id": "91efdb48",
   "metadata": {},
   "source": [
    "## What should we do if we want the string to be all uppercase?"
   ]
  },
  {
   "cell_type": "code",
   "execution_count": 8,
   "id": "22af2478",
   "metadata": {},
   "outputs": [
    {
     "name": "stdout",
     "output_type": "stream",
     "text": [
      "HIPPOPOTAMUS\n"
     ]
    }
   ],
   "source": [
    "quote4 = \"HiPpoPotaMuS\"\n",
    "\n",
    "print(quote4.upper())"
   ]
  },
  {
   "cell_type": "markdown",
   "id": "9a641261",
   "metadata": {},
   "source": [
    "#  "
   ]
  },
  {
   "cell_type": "markdown",
   "id": "e322fbbc",
   "metadata": {},
   "source": [
    "# Operations\n",
    "## Here we can add two different Integers"
   ]
  },
  {
   "cell_type": "code",
   "execution_count": 9,
   "id": "afd14aab",
   "metadata": {},
   "outputs": [
    {
     "name": "stdout",
     "output_type": "stream",
     "text": [
      "3\n"
     ]
    }
   ],
   "source": [
    "one = 1\n",
    "two = 2\n",
    "three = one + two\n",
    "print(three)"
   ]
  },
  {
   "cell_type": "markdown",
   "id": "0cf12b61",
   "metadata": {},
   "source": [
    "## How do we add two Strings together?"
   ]
  },
  {
   "cell_type": "code",
   "execution_count": 13,
   "id": "25663981",
   "metadata": {},
   "outputs": [
    {
     "name": "stdout",
     "output_type": "stream",
     "text": [
      "hello world\n"
     ]
    }
   ],
   "source": [
    "hello = \"hello\"\n",
    "world = \"world\"\n",
    "\n",
    "final_word = hello +   \" \"   + world\n",
    "\n",
    "print(final_word)"
   ]
  },
  {
   "cell_type": "code",
   "execution_count": 1,
   "id": "456305bb",
   "metadata": {},
   "outputs": [
    {
     "name": "stdout",
     "output_type": "stream",
     "text": [
      "okay\n"
     ]
    }
   ],
   "source": [
    "x = 6\n",
    "y = 5\n",
    "\n",
    "if (x == 10 or y == 5):\n",
    "    print(\"okay\")\n",
    "    \n",
    "elif (x == 8):\n",
    "    print(\"maybe\")\n",
    "    \n",
    "elif (x >= 9):\n",
    "    print(\"nah\")\n",
    "\n",
    "else:\n",
    "    print(\"no\")"
   ]
  },
  {
   "cell_type": "code",
   "execution_count": null,
   "id": "79ee344a",
   "metadata": {},
   "outputs": [],
   "source": []
  }
 ],
 "metadata": {
  "kernelspec": {
   "display_name": "Python 3 (ipykernel)",
   "language": "python",
   "name": "python3"
  },
  "language_info": {
   "codemirror_mode": {
    "name": "ipython",
    "version": 3
   },
   "file_extension": ".py",
   "mimetype": "text/x-python",
   "name": "python",
   "nbconvert_exporter": "python",
   "pygments_lexer": "ipython3",
   "version": "3.9.12"
  }
 },
 "nbformat": 4,
 "nbformat_minor": 5
}
